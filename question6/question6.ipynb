{
 "cells": [
  {
   "cell_type": "code",
   "execution_count": 1,
   "metadata": {},
   "outputs": [],
   "source": [
    "import numpy as np"
   ]
  },
  {
   "cell_type": "code",
   "execution_count": 2,
   "metadata": {},
   "outputs": [],
   "source": [
    "def is_inpolygun(ploygun_point, scatter_point, border=True):\n",
    "    pp = np.array(ploygun_point)\n",
    "    sp = np.array(scatter_point)\n",
    "    if (pp[0] == pp[-1]).all():\n",
    "        pp = np.delete(pp, -1, axis=0)\n",
    "\n",
    "#   confirm the intersection \n",
    "    x = pp[:, 0]\n",
    "    y = pp[:, 1]\n",
    "    px = sp[0]\n",
    "    py = sp[1]\n",
    "\n",
    "# The Y coordinate of each point on the side is subtracted from the \n",
    "# Y coordinate of the scattered point. If they intersect, the difference between the\n",
    "# two adjacent points must be one >=0, and the other <=0\n",
    "    \n",
    "    dy = y - py\n",
    "    dy_next = dy.copy()\n",
    "    dy_next[0] = dy[-1]\n",
    "    dy_next[1:] = dy[:-1]\n",
    "\n",
    "#  Multiply the two, and the product <=0 is the intersection point\n",
    "    dy_mu = dy * dy_next\n",
    "    negative_index = np.where(dy_mu <=0)\n",
    "\n",
    "# If there is an intersection, determine the number of intersections on the left of the\n",
    "# scatter point, the odd number means inside,the even number means outside\n",
    "    if len(negative_index) >0:\n",
    "        isp = pp[np.where(dy_mu <= 0)]\n",
    "    if not border:\n",
    "        isp= np.unique(isp, axis=0)\n",
    "        left_num = len(isp[np.where(isp[:, 0] <= px)])  \n",
    "    else:\n",
    "        left_num = len(isp[np.where(isp[:, 0] < px)])  \n",
    "\n",
    "# Determine parity\n",
    "    if left_num % 2 ==0:\n",
    "        print('outside')\n",
    "    else:\n",
    "        print('inside')\n",
    "   "
   ]
  },
  {
   "cell_type": "code",
   "execution_count": 6,
   "metadata": {},
   "outputs": [
    {
     "name": "stdout",
     "output_type": "stream",
     "text": [
      "[7, 11]   inside\n",
      "[10, 14]   inside\n",
      "[11, 4]   outside\n",
      "[12, 21]   inside\n",
      "[16, 3]   inside\n",
      "[16, 10]   inside\n",
      "[17, 4]   inside\n",
      "[18, 7]   inside\n",
      "[18, 17]   outside\n",
      "[20, 7]   outside\n"
     ]
    }
   ],
   "source": [
    "#question6 answer:\n",
    "\n",
    "ploy = [[4,3],\n",
    "[2,6],\n",
    "[3,12],\n",
    "[2,17],\n",
    "[5,20],\n",
    "[9,21],\n",
    "[14,19],\n",
    "[20,14],\n",
    "[18,3],\n",
    "[11,7]]\n",
    "\n",
    "total = [[7 ,11],\n",
    "[10 ,14],\n",
    "[11 ,4],\n",
    "[12 ,21],\n",
    "[16 ,3],\n",
    "[16 ,10],\n",
    "[17 ,4],\n",
    "[18 ,7],\n",
    "[18, 17],\n",
    "[20, 7]]\n",
    "for i in total:\n",
    "    print(i,end='   '),is_inpolygun(ploy,i,border = True)"
   ]
  },
  {
   "cell_type": "code",
   "execution_count": null,
   "metadata": {},
   "outputs": [],
   "source": []
  }
 ],
 "metadata": {
  "kernelspec": {
   "display_name": "Python 3",
   "language": "python",
   "name": "python3"
  },
  "language_info": {
   "codemirror_mode": {
    "name": "ipython",
    "version": 3
   },
   "file_extension": ".py",
   "mimetype": "text/x-python",
   "name": "python",
   "nbconvert_exporter": "python",
   "pygments_lexer": "ipython3",
   "version": "3.8.3"
  }
 },
 "nbformat": 4,
 "nbformat_minor": 2
}
