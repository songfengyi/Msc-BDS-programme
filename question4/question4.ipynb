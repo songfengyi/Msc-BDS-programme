{
 "cells": [
  {
   "cell_type": "code",
   "execution_count": 1,
   "metadata": {},
   "outputs": [
    {
     "data": {
      "text/plain": [
       "array([[1, 0, 1, 0, 0, 0, 0, 0, 1, 1, 0, 0, 0, 0, 1, 0, 0, 1, 0, 0],\n",
       "       [0, 1, 1, 1, 1, 1, 1, 0, 1, 0, 1, 0, 1, 0, 0, 0, 0, 0, 1, 0],\n",
       "       [0, 0, 0, 0, 1, 1, 0, 0, 0, 0, 1, 0, 0, 0, 1, 1, 1, 0, 1, 1],\n",
       "       [1, 0, 0, 1, 0, 0, 0, 0, 0, 0, 1, 1, 1, 0, 1, 1, 1, 0, 1, 1],\n",
       "       [1, 1, 1, 1, 0, 1, 0, 0, 0, 0, 0, 0, 0, 1, 0, 0, 1, 1, 0, 1],\n",
       "       [1, 1, 0, 0, 0, 0, 1, 0, 0, 0, 0, 1, 1, 0, 0, 0, 0, 1, 0, 1],\n",
       "       [0, 1, 0, 0, 0, 1, 1, 0, 0, 0, 0, 1, 1, 0, 0, 0, 0, 1, 1, 1],\n",
       "       [0, 0, 1, 1, 1, 0, 0, 1, 0, 1, 0, 0, 1, 0, 0, 0, 1, 1, 1, 0],\n",
       "       [1, 0, 1, 0, 1, 0, 1, 1, 1, 1, 0, 0, 1, 0, 1, 0, 0, 0, 0, 1]],\n",
       "      dtype=int64)"
      ]
     },
     "execution_count": 1,
     "metadata": {},
     "output_type": "execute_result"
    }
   ],
   "source": [
    "import pandas as pd\n",
    "\n",
    "df = pd.read_csv('1.csv')\n",
    "df.values"
   ]
  },
  {
   "cell_type": "code",
   "execution_count": 14,
   "metadata": {},
   "outputs": [
    {
     "name": "stdout",
     "output_type": "stream",
     "text": [
      "input image:\n",
      "1 0 1 0 0 0 0 0 1 1 0 0 0 0 1 0 0 1 0 0 \n",
      "0 1 1 1 1 1 1 0 1 0 1 0 1 0 0 0 0 0 1 0 \n",
      "0 0 0 0 1 1 0 0 0 0 1 0 0 0 1 1 1 0 1 1 \n",
      "1 0 0 1 0 0 0 0 0 0 1 1 1 0 1 1 1 0 1 1 \n",
      "1 1 1 1 0 1 0 0 0 0 0 0 0 1 0 0 1 1 0 1 \n",
      "1 1 0 0 0 0 1 0 0 0 0 1 1 0 0 0 0 1 0 1 \n",
      "0 1 0 0 0 1 1 0 0 0 0 1 1 0 0 0 0 1 1 1 \n",
      "0 0 1 1 1 0 0 1 0 1 0 0 1 0 0 0 1 1 1 0 \n",
      "1 0 1 0 1 0 1 1 1 1 0 0 1 0 1 0 0 0 0 1 \n",
      "                \n",
      "out put labeled image\n",
      "1 0 2 0 0 0 0 0 3 3 0 0 0 0 4 0 0 5 0 0 \n",
      "0 2 2 2 2 2 2 0 3 0 6 0 7 0 0 0 0 0 8 0 \n",
      "0 0 0 0 2 2 0 0 0 0 6 0 0 0 8 8 8 0 8 8 \n",
      "9 0 0 9 0 0 0 0 0 0 6 6 6 0 8 8 8 0 8 8 \n",
      "9 9 9 9 0 10 0 0 0 0 0 0 0 11 0 0 8 8 0 8 \n",
      "9 9 0 0 0 0 12 0 0 0 0 13 13 0 0 0 0 8 0 8 \n",
      "0 9 0 0 0 12 12 0 0 0 0 13 13 0 0 0 0 8 8 8 \n",
      "0 0 14 14 14 0 0 15 0 15 0 0 13 0 0 0 8 8 8 0 \n",
      "16 0 14 0 14 0 15 15 15 15 0 0 13 0 17 0 0 0 0 18 \n"
     ]
    }
   ],
   "source": [
    "table = df.values\n",
    "rows = len(table)\n",
    "cols = len(table[0])\n",
    "\n",
    "label_table = []\n",
    "for i in range(rows):\n",
    "    col = cols*[0]\n",
    "    label_table.append(col)\n",
    "\n",
    "def show(table):\n",
    "    #to show the group of pixels in the image\n",
    "    rows = len(table)\n",
    "    cols = len(table[0])\n",
    "    for i in range(rows):\n",
    "        for j in range(cols):\n",
    "            print(table[i][j], end=\" \")\n",
    "        print()\n",
    "\n",
    "def dfs(i, j, mask):\n",
    "    if i<0 or i>=rows or j<0 or j>=cols or \\\n",
    "        label_table[i][j]!=0 or \\\n",
    "        table[i][j]!=1:\n",
    "        return 0\n",
    "    label_table[i][j] = mask\n",
    "    ret = 1\n",
    "    #search up and down, left and right, \n",
    "    #and continue to spread recursively\n",
    "   \n",
    "    ret+=dfs(i, j-1, mask)\n",
    "    ret+=dfs(i, j+1, mask)\n",
    "    ret+=dfs(i-1, j, mask)\n",
    "    ret+=dfs(i+1, j, mask)\n",
    "\n",
    "    return ret\n",
    "    \n",
    "if __name__ == \"__main__\":\n",
    "    print(\"input image:\")\n",
    "    show(table)\n",
    "    print(\"                \")\n",
    "    print(\"out put labeled image\")\n",
    "    mask = 1\n",
    "    for i in range(rows):\n",
    "        for j in range(cols):\n",
    "            if table[i][j] == 1 and label_table[i][j] == 0:#find an unlabeled pixel as the entrance to scan\n",
    "                ret = dfs(i,j, mask)\n",
    "              \n",
    "                mask+=1\n",
    "               \n",
    "    show(label_table)"
   ]
  },
  {
   "cell_type": "code",
   "execution_count": null,
   "metadata": {},
   "outputs": [],
   "source": []
  }
 ],
 "metadata": {
  "kernelspec": {
   "display_name": "Python 3",
   "language": "python",
   "name": "python3"
  },
  "language_info": {
   "codemirror_mode": {
    "name": "ipython",
    "version": 3
   },
   "file_extension": ".py",
   "mimetype": "text/x-python",
   "name": "python",
   "nbconvert_exporter": "python",
   "pygments_lexer": "ipython3",
   "version": "3.8.3"
  }
 },
 "nbformat": 4,
 "nbformat_minor": 2
}
