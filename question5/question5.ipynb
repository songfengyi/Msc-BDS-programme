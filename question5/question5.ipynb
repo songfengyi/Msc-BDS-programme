{
 "cells": [
  {
   "cell_type": "code",
   "execution_count": 14,
   "metadata": {},
   "outputs": [],
   "source": [
    "from itertools import zip_longest\n",
    "\n",
    "\n",
    "def gen_item(beads):\n",
    "    #conversion a dict to dict of list:\n",
    "    d  = dict()\n",
    "    for k, v in  beads.items():\n",
    "        d[v] = d.get(v, \"\") + k\n",
    "    return d, sorted(d.keys())\n",
    "\n",
    "\n",
    "\n",
    "def coloring(d, val, res):\n",
    "    \"\"\"\n",
    "    there are tons of corner case, for this problem, only consider to of them: \n",
    "    1. l = 5  beads = {\"R\": 12, \"B\": 13}\n",
    "    2. l = 64 beads = {\"R\": 139, \"B\": 1451, \"G\": 977, \"W\":1072, \"Y\": 457}\n",
    "\n",
    "    1. sort the beads values, choose the top 3 group base on quantity. iter the dict to 2 key-value pairs. \n",
    "    choose top 2: m and n, m > n and third as sendinal value,check different condition:\n",
    "        a. if the topest value have multiple char\n",
    "        b. if topest have one value and second have multiple char, calculate the flag point,judge it is \n",
    "        large or small than sentinal value.\n",
    "        c. the topest and second val are unique\n",
    "    2. run until there are 2 key-value pairs.\n",
    "    3. combine the final dict.\n",
    "    \"\"\"\n",
    "    m = val.pop()\n",
    "    n = val.pop()\n",
    "    sentinal = val[-1]\n",
    "\n",
    "    if len(d[m]) > 1:\n",
    "        res.append(d[m] * (m-n))\n",
    "        d[n] += d[m]\n",
    "        del d[m]\n",
    "    elif len(d[m]) == 1 and len(d[n]) > 1:\n",
    "\n",
    "        flag = (n * len(d[n]) - m) // (len(d[n]) - 1) # if flag < 0, there are penality, not count in current test   \n",
    "        if sentinal > flag:\n",
    "            flag = sentinal\n",
    "\n",
    "        res.append(''.join([''.join(i) for i in zip_longest(d[m] * (m - flag), d[n] * (n - flag))]))\n",
    "        d[flag] = d[flag] if flag in d else \"\"\n",
    "        d[flag] += d[m] + d[n]\n",
    "        del d[m]\n",
    "        del d[n]\n",
    "    elif len(d[m]) == 1 and len(d[n]) == 1:\n",
    "        res.append((d[m]+d[n])* (n - sentinal))\n",
    "        d[m-n+sentinal] = d[m]\n",
    "        d[sentinal] += d[n]\n",
    "        del d[m]\n",
    "        del d[n]\n",
    "\n",
    "\n",
    "    return res, d, sorted(d.keys())\n",
    "      # res: result of current iteration, list of string\n",
    "      # d: dict of {quantity: [color in this quantity]}\n",
    "      # val: sorted quantity of color in current iteration\n",
    "\n",
    "def display(L, s):\n",
    "    res = [([0] * L) for _ in range(L)]   \n",
    "    if L * L != len(s): # raise error if quantity of all beads is not equal to L * L\n",
    "        return \"error, color of beads can not fill all grid\"\n",
    "    \n",
    "    for i in range(L):\n",
    "        for j in range(L):\n",
    "            if L % 2 == 0 and i % 2 == 1:\n",
    "                res[i][j] = s[i * L + (L - j - 1)]\n",
    "            else:\n",
    "                res[i][j] = s[i * L + j]\n",
    "    return res\n",
    "\n",
    "\n",
    "\n",
    "# R for red, B for blue, G for green, W for White, Y for yellow\n",
    "beads = {\"R\": 12, \"B\": 13}\n",
    "\n",
    "beads2 = {\"R\": 139, \"B\": 1451, \"G\": 977, \"W\":1072, \"Y\": 457} # final tests\n",
    "def main(beads,L):\n",
    "    counter = 1\n",
    "    res = list()\n",
    "    d, val = gen_item(beads)\n",
    "\n",
    "    print(\"initial draft: \", d, val)\n",
    "    while len(d) > 2:\n",
    "        res, d, val = coloring(d, val, res)\n",
    "        print(\"{} iter\".format(str(counter)))\n",
    "        print(res, d, val)\n",
    "        counter += 1\n",
    "\n",
    "    # operator the dict with 2 keys\n",
    "    min_key = min(d.keys())\n",
    "    max_key = max(d.keys())\n",
    "    res.append(min_key * \"\".join(d.values()))\n",
    "    res.append((max_key - min_key) * d[max_key])\n",
    "\n",
    "    print('here is the final result:')\n",
    "    print(res)\n",
    "\n",
    "    print(display(L, list(''.join(res))))\n",
    "\n",
    "\n"
   ]
  },
  {
   "cell_type": "code",
   "execution_count": 16,
   "metadata": {},
   "outputs": [
    {
     "name": "stdout",
     "output_type": "stream",
     "text": [
      "initial draft:  {12: 'R', 13: 'B'} [12, 13]\n",
      "here is the final result:\n",
      "['RBRBRBRBRBRBRBRBRBRBRBRB', 'B']\n",
      "[['R', 'B', 'R', 'B', 'R'], ['B', 'R', 'B', 'R', 'B'], ['R', 'B', 'R', 'B', 'R'], ['B', 'R', 'B', 'R', 'B'], ['R', 'B', 'R', 'B', 'B']]\n"
     ]
    }
   ],
   "source": [
    "#question5.1\n",
    "main(beads,5)"
   ]
  },
  {
   "cell_type": "code",
   "execution_count": 17,
   "metadata": {},
   "outputs": [
    {
     "name": "stdout",
     "output_type": "stream",
     "text": [
      "initial draft:  {139: 'R', 1451: 'B', 977: 'G', 1072: 'W', 457: 'Y'} [139, 457, 977, 1072, 1451]\n",
      "1 iter\n",
      "['BWBWBWBWBWBWBWBWBWBWBWBWBWBWBWBWBWBWBWBWBWBWBWBWBWBWBWBWBWBWBWBWBWBWBWBWBWBWBWBWBWBWBWBWBWBWBWBWBWBWBWBWBWBWBWBWBWBWBWBWBWBWBWBWBWBWBWBWBWBWBWBWBWBWBWBWBWBWBWBWBWBWBWBWBWBWBWBWBWBWBWBWBWBWBW'] {139: 'R', 977: 'GW', 457: 'Y', 1356: 'B'} [139, 457, 977, 1356]\n",
      "2 iter\n",
      "['BWBWBWBWBWBWBWBWBWBWBWBWBWBWBWBWBWBWBWBWBWBWBWBWBWBWBWBWBWBWBWBWBWBWBWBWBWBWBWBWBWBWBWBWBWBWBWBWBWBWBWBWBWBWBWBWBWBWBWBWBWBWBWBWBWBWBWBWBWBWBWBWBWBWBWBWBWBWBWBWBWBWBWBWBWBWBWBWBWBWBWBWBWBWBW', 'BGBWBGBWBGBWBGBWBGBWBGBWBGBWBGBWBGBWBGBWBGBWBGBWBGBWBGBWBGBWBGBWBGBWBGBWBGBWBGBWBGBWBGBWBGBWBGBWBGBWBGBWBGBWBGBWBGBWBGBWBGBWBGBWBGBWBGBWBGBWBGBWBGBWBGBWBGBWBGBWBGBWBGBWBGBWBGBWBGBWBGBWBGBWBGBWBGBWBGBWBGBWBGBWBGBWBGBWBGBWBGBWBGBWBGBWBGBWBGBWBGBWBGBWBGBWBGBWBGBWBGBWBGBWBGBWBGBWBGBWBGBWBGBWBGBWBGBWBGBWBGBWBGBWBGBWBGBWBGBWBGBWBGBWBGBWBGBWBGBWBGBWBGBWBGBWBGBWBGBWBGBWBGBWBGBWBGBWBGBWBGBWBGBWBGBWBGBWBGBWBGBWBGBWBGBWBGBWBGBWBGBWBGBWBGBWBGBWBGBWBGBWBGBWBGBWBGBWBGBWBGBWBGBWBGBWBGBWBGBWBGBWBGBWBGBWBGBWBGBWBGBWBGBWBGBWBGBWBGBWBGBWBGBWBGBWBGBWBGBWBGBWBGBWBGBWBGBWBGBWBGBWBGBWBGBWBGBWBGBWBGBWBGBWBGBWBGBWBGBWBGBWBGBWBGBWBGBWBGBWBGBWBGBWBGBWBGBWBGBWBGBWBGBWBGBWBGBWBGBWBGBWBGBWBGBWBGBWBGBWBGBWBGBWBGBWBGBWBGBWBGBWBGBWBGBWBGBWBGBWBGBWBGBWBGBWBGBWBGBWBGBWBGBWBGBWBGBWBGBWBGBWBGBWBGBWBGBWBGBWBGBWBGBWBGBWBGBWBGBWBGBWBGBWBGBWBGBWBGBWBGBWBGBWBGBWBGBWBGBWBGBWBGBWBGBWBGBWBGBWBGBWBGBWBGBWBGBWBGBWBGBWBGBWBGBWBGBWBGBWBGBWBGBWBGBWBGBWBGBWBGBWBGBWBGBWBGBWBGBWBGBWBGBWBGBWBGBWBGBWBGBWBGBWBGBWBGBWBGBWBGBWBGBWBGBWBGBWBGBWBGBWBGBWBGBWBGBWBGBWBGBWBGBWBGBWBGBWBGBWBGBWBGBWBGBWBGBWBGBWBGBWBGBWBGBWBGBWBGBWBGBWBGBWBGBWBGBWBGBWBGBWBGBWBGBWBGBWBGBWBGBWBGBWBGBWBGBWBGBWBGBWBGBWBGBWBGBWBGBWBGBWBGBWBGBWBGBWBGBWBGBWBGBWBGBWBGBWBGBWBGBWBGBWBGBWBGBWBGBWBGBWBGBWBGBWBGBWBGBWBGBWBGBWBGBWBGBWBGBWBGBWBGBWBGBWBGBWBGBWBGBWBGBWBGBWBGBWBGBWBGBWBGBWBGBWBGBWBGBWBGBWBGBWBGBWBGBWBGBWBGBWBGBWBGBWBGBWBGBWBGBWBGBWBGBWBGBWBGBWBGBWBGBWBGBWBGBWBGBWBGBWBGBWBGBWBGBWBGBWBGBWBGBWBGBWBGBWBGBWBGBWBGBWBGBWBGBWBGBWBGBWBGBWBGBWBGBWBGBWBGBWBGBWBGBWBGBWBGBWBGBWBGBWBGBWBGBW'] {139: 'R', 457: 'Y', 598: 'BGW'} [139, 457, 598]\n",
      "3 iter\n",
      "['BWBWBWBWBWBWBWBWBWBWBWBWBWBWBWBWBWBWBWBWBWBWBWBWBWBWBWBWBWBWBWBWBWBWBWBWBWBWBWBWBWBWBWBWBWBWBWBWBWBWBWBWBWBWBWBWBWBWBWBWBWBWBWBWBWBWBWBWBWBWBWBWBWBWBWBWBWBWBWBWBWBWBWBWBWBWBWBWBWBWBWBWBWBWBW', 'BGBWBGBWBGBWBGBWBGBWBGBWBGBWBGBWBGBWBGBWBGBWBGBWBGBWBGBWBGBWBGBWBGBWBGBWBGBWBGBWBGBWBGBWBGBWBGBWBGBWBGBWBGBWBGBWBGBWBGBWBGBWBGBWBGBWBGBWBGBWBGBWBGBWBGBWBGBWBGBWBGBWBGBWBGBWBGBWBGBWBGBWBGBWBGBWBGBWBGBWBGBWBGBWBGBWBGBWBGBWBGBWBGBWBGBWBGBWBGBWBGBWBGBWBGBWBGBWBGBWBGBWBGBWBGBWBGBWBGBWBGBWBGBWBGBWBGBWBGBWBGBWBGBWBGBWBGBWBGBWBGBWBGBWBGBWBGBWBGBWBGBWBGBWBGBWBGBWBGBWBGBWBGBWBGBWBGBWBGBWBGBWBGBWBGBWBGBWBGBWBGBWBGBWBGBWBGBWBGBWBGBWBGBWBGBWBGBWBGBWBGBWBGBWBGBWBGBWBGBWBGBWBGBWBGBWBGBWBGBWBGBWBGBWBGBWBGBWBGBWBGBWBGBWBGBWBGBWBGBWBGBWBGBWBGBWBGBWBGBWBGBWBGBWBGBWBGBWBGBWBGBWBGBWBGBWBGBWBGBWBGBWBGBWBGBWBGBWBGBWBGBWBGBWBGBWBGBWBGBWBGBWBGBWBGBWBGBWBGBWBGBWBGBWBGBWBGBWBGBWBGBWBGBWBGBWBGBWBGBWBGBWBGBWBGBWBGBWBGBWBGBWBGBWBGBWBGBWBGBWBGBWBGBWBGBWBGBWBGBWBGBWBGBWBGBWBGBWBGBWBGBWBGBWBGBWBGBWBGBWBGBWBGBWBGBWBGBWBGBWBGBWBGBWBGBWBGBWBGBWBGBWBGBWBGBWBGBWBGBWBGBWBGBWBGBWBGBWBGBWBGBWBGBWBGBWBGBWBGBWBGBWBGBWBGBWBGBWBGBWBGBWBGBWBGBWBGBWBGBWBGBWBGBWBGBWBGBWBGBWBGBWBGBWBGBWBGBWBGBWBGBWBGBWBGBWBGBWBGBWBGBWBGBWBGBWBGBWBGBWBGBWBGBWBGBWBGBWBGBWBGBWBGBWBGBWBGBWBGBWBGBWBGBWBGBWBGBWBGBWBGBWBGBWBGBWBGBWBGBWBGBWBGBWBGBWBGBWBGBWBGBWBGBWBGBWBGBWBGBWBGBWBGBWBGBWBGBWBGBWBGBWBGBWBGBWBGBWBGBWBGBWBGBWBGBWBGBWBGBWBGBWBGBWBGBWBGBWBGBWBGBWBGBWBGBWBGBWBGBWBGBWBGBWBGBWBGBWBGBWBGBWBGBWBGBWBGBWBGBWBGBWBGBWBGBWBGBWBGBWBGBWBGBWBGBWBGBWBGBWBGBWBGBWBGBWBGBWBGBWBGBWBGBWBGBWBGBWBGBWBGBWBGBWBGBWBGBWBGBWBGBWBGBWBGBWBGBWBGBWBGBWBGBWBGBWBGBWBGBWBGBWBGBWBGBWBGBWBGBWBGBWBGBWBGBWBGBWBGBWBGBWBGBWBGBWBGBWBGBWBGBWBGBWBGBWBGBWBGBWBGBWBGBWBGBWBGBWBGBWBGBWBGBWBGBWBGBW', 'BGWBGWBGWBGWBGWBGWBGWBGWBGWBGWBGWBGWBGWBGWBGWBGWBGWBGWBGWBGWBGWBGWBGWBGWBGWBGWBGWBGWBGWBGWBGWBGWBGWBGWBGWBGWBGWBGWBGWBGWBGWBGWBGWBGWBGWBGWBGWBGWBGWBGWBGWBGWBGWBGWBGWBGWBGWBGWBGWBGWBGWBGWBGWBGWBGWBGWBGWBGWBGWBGWBGWBGWBGWBGWBGWBGWBGWBGWBGWBGWBGWBGWBGWBGWBGWBGWBGWBGWBGWBGWBGWBGWBGWBGWBGWBGWBGWBGWBGWBGWBGWBGWBGWBGWBGWBGWBGWBGWBGWBGWBGWBGWBGWBGWBGWBGWBGWBGWBGWBGWBGWBGWBGWBGWBGWBGWBGWBGWBGWBGWBGWBGWBGWBGWBGWBGWBGWBGWBGWBGWBGW'] {139: 'R', 457: 'YBGW'} [139, 457]\n",
      "here is the final result:\n",
      "['BWBWBWBWBWBWBWBWBWBWBWBWBWBWBWBWBWBWBWBWBWBWBWBWBWBWBWBWBWBWBWBWBWBWBWBWBWBWBWBWBWBWBWBWBWBWBWBWBWBWBWBWBWBWBWBWBWBWBWBWBWBWBWBWBWBWBWBWBWBWBWBWBWBWBWBWBWBWBWBWBWBWBWBWBWBWBWBWBWBWBWBWBWBWBW', 'BGBWBGBWBGBWBGBWBGBWBGBWBGBWBGBWBGBWBGBWBGBWBGBWBGBWBGBWBGBWBGBWBGBWBGBWBGBWBGBWBGBWBGBWBGBWBGBWBGBWBGBWBGBWBGBWBGBWBGBWBGBWBGBWBGBWBGBWBGBWBGBWBGBWBGBWBGBWBGBWBGBWBGBWBGBWBGBWBGBWBGBWBGBWBGBWBGBWBGBWBGBWBGBWBGBWBGBWBGBWBGBWBGBWBGBWBGBWBGBWBGBWBGBWBGBWBGBWBGBWBGBWBGBWBGBWBGBWBGBWBGBWBGBWBGBWBGBWBGBWBGBWBGBWBGBWBGBWBGBWBGBWBGBWBGBWBGBWBGBWBGBWBGBWBGBWBGBWBGBWBGBWBGBWBGBWBGBWBGBWBGBWBGBWBGBWBGBWBGBWBGBWBGBWBGBWBGBWBGBWBGBWBGBWBGBWBGBWBGBWBGBWBGBWBGBWBGBWBGBWBGBWBGBWBGBWBGBWBGBWBGBWBGBWBGBWBGBWBGBWBGBWBGBWBGBWBGBWBGBWBGBWBGBWBGBWBGBWBGBWBGBWBGBWBGBWBGBWBGBWBGBWBGBWBGBWBGBWBGBWBGBWBGBWBGBWBGBWBGBWBGBWBGBWBGBWBGBWBGBWBGBWBGBWBGBWBGBWBGBWBGBWBGBWBGBWBGBWBGBWBGBWBGBWBGBWBGBWBGBWBGBWBGBWBGBWBGBWBGBWBGBWBGBWBGBWBGBWBGBWBGBWBGBWBGBWBGBWBGBWBGBWBGBWBGBWBGBWBGBWBGBWBGBWBGBWBGBWBGBWBGBWBGBWBGBWBGBWBGBWBGBWBGBWBGBWBGBWBGBWBGBWBGBWBGBWBGBWBGBWBGBWBGBWBGBWBGBWBGBWBGBWBGBWBGBWBGBWBGBWBGBWBGBWBGBWBGBWBGBWBGBWBGBWBGBWBGBWBGBWBGBWBGBWBGBWBGBWBGBWBGBWBGBWBGBWBGBWBGBWBGBWBGBWBGBWBGBWBGBWBGBWBGBWBGBWBGBWBGBWBGBWBGBWBGBWBGBWBGBWBGBWBGBWBGBWBGBWBGBWBGBWBGBWBGBWBGBWBGBWBGBWBGBWBGBWBGBWBGBWBGBWBGBWBGBWBGBWBGBWBGBWBGBWBGBWBGBWBGBWBGBWBGBWBGBWBGBWBGBWBGBWBGBWBGBWBGBWBGBWBGBWBGBWBGBWBGBWBGBWBGBWBGBWBGBWBGBWBGBWBGBWBGBWBGBWBGBWBGBWBGBWBGBWBGBWBGBWBGBWBGBWBGBWBGBWBGBWBGBWBGBWBGBWBGBWBGBWBGBWBGBWBGBWBGBWBGBWBGBWBGBWBGBWBGBWBGBWBGBWBGBWBGBWBGBWBGBWBGBWBGBWBGBWBGBWBGBWBGBWBGBWBGBWBGBWBGBWBGBWBGBWBGBWBGBWBGBWBGBWBGBWBGBWBGBWBGBWBGBWBGBWBGBWBGBWBGBWBGBWBGBWBGBWBGBWBGBWBGBWBGBWBGBWBGBWBGBWBGBWBGBWBGBWBGBWBGBWBGBWBGBWBGBWBGBWBGBW', 'BGWBGWBGWBGWBGWBGWBGWBGWBGWBGWBGWBGWBGWBGWBGWBGWBGWBGWBGWBGWBGWBGWBGWBGWBGWBGWBGWBGWBGWBGWBGWBGWBGWBGWBGWBGWBGWBGWBGWBGWBGWBGWBGWBGWBGWBGWBGWBGWBGWBGWBGWBGWBGWBGWBGWBGWBGWBGWBGWBGWBGWBGWBGWBGWBGWBGWBGWBGWBGWBGWBGWBGWBGWBGWBGWBGWBGWBGWBGWBGWBGWBGWBGWBGWBGWBGWBGWBGWBGWBGWBGWBGWBGWBGWBGWBGWBGWBGWBGWBGWBGWBGWBGWBGWBGWBGWBGWBGWBGWBGWBGWBGWBGWBGWBGWBGWBGWBGWBGWBGWBGWBGWBGWBGWBGWBGWBGWBGWBGWBGWBGWBGWBGWBGWBGWBGWBGWBGWBGWBGWBGW', 'RYBGWRYBGWRYBGWRYBGWRYBGWRYBGWRYBGWRYBGWRYBGWRYBGWRYBGWRYBGWRYBGWRYBGWRYBGWRYBGWRYBGWRYBGWRYBGWRYBGWRYBGWRYBGWRYBGWRYBGWRYBGWRYBGWRYBGWRYBGWRYBGWRYBGWRYBGWRYBGWRYBGWRYBGWRYBGWRYBGWRYBGWRYBGWRYBGWRYBGWRYBGWRYBGWRYBGWRYBGWRYBGWRYBGWRYBGWRYBGWRYBGWRYBGWRYBGWRYBGWRYBGWRYBGWRYBGWRYBGWRYBGWRYBGWRYBGWRYBGWRYBGWRYBGWRYBGWRYBGWRYBGWRYBGWRYBGWRYBGWRYBGWRYBGWRYBGWRYBGWRYBGWRYBGWRYBGWRYBGWRYBGWRYBGWRYBGWRYBGWRYBGWRYBGWRYBGWRYBGWRYBGWRYBGWRYBGWRYBGWRYBGWRYBGWRYBGWRYBGWRYBGWRYBGWRYBGWRYBGWRYBGWRYBGWRYBGWRYBGWRYBGWRYBGWRYBGWRYBGWRYBGWRYBGWRYBGWRYBGWRYBGWRYBGWRYBGWRYBGWRYBGWRYBGWRYBGWRYBGWRYBGWRYBGWRYBGWRYBGWRYBGWRYBGWRYBGWRYBGWRYBGWRYBGWRYBGWRYBGWRYBGWRYBGWRYBGWRYBGWRYBGWRYBGWRYBGWRYBGWRYBGWRYBGWRYBGW', 'YBGWYBGWYBGWYBGWYBGWYBGWYBGWYBGWYBGWYBGWYBGWYBGWYBGWYBGWYBGWYBGWYBGWYBGWYBGWYBGWYBGWYBGWYBGWYBGWYBGWYBGWYBGWYBGWYBGWYBGWYBGWYBGWYBGWYBGWYBGWYBGWYBGWYBGWYBGWYBGWYBGWYBGWYBGWYBGWYBGWYBGWYBGWYBGWYBGWYBGWYBGWYBGWYBGWYBGWYBGWYBGWYBGWYBGWYBGWYBGWYBGWYBGWYBGWYBGWYBGWYBGWYBGWYBGWYBGWYBGWYBGWYBGWYBGWYBGWYBGWYBGWYBGWYBGWYBGWYBGWYBGWYBGWYBGWYBGWYBGWYBGWYBGWYBGWYBGWYBGWYBGWYBGWYBGWYBGWYBGWYBGWYBGWYBGWYBGWYBGWYBGWYBGWYBGWYBGWYBGWYBGWYBGWYBGWYBGWYBGWYBGWYBGWYBGWYBGWYBGWYBGWYBGWYBGWYBGWYBGWYBGWYBGWYBGWYBGWYBGWYBGWYBGWYBGWYBGWYBGWYBGWYBGWYBGWYBGWYBGWYBGWYBGWYBGWYBGWYBGWYBGWYBGWYBGWYBGWYBGWYBGWYBGWYBGWYBGWYBGWYBGWYBGWYBGWYBGWYBGWYBGWYBGWYBGWYBGWYBGWYBGWYBGWYBGWYBGWYBGWYBGWYBGWYBGWYBGWYBGWYBGWYBGWYBGWYBGWYBGWYBGWYBGWYBGWYBGWYBGWYBGWYBGWYBGWYBGWYBGWYBGWYBGWYBGWYBGWYBGWYBGWYBGWYBGWYBGWYBGWYBGWYBGWYBGWYBGWYBGWYBGWYBGWYBGWYBGWYBGWYBGWYBGWYBGWYBGWYBGWYBGWYBGWYBGWYBGWYBGWYBGWYBGWYBGWYBGWYBGWYBGWYBGWYBGWYBGWYBGWYBGWYBGWYBGWYBGWYBGWYBGWYBGWYBGWYBGWYBGWYBGWYBGWYBGWYBGWYBGWYBGWYBGWYBGWYBGWYBGWYBGWYBGWYBGWYBGWYBGWYBGWYBGWYBGWYBGWYBGWYBGWYBGWYBGWYBGWYBGWYBGWYBGWYBGWYBGWYBGWYBGWYBGWYBGWYBGWYBGWYBGWYBGWYBGWYBGWYBGWYBGWYBGWYBGWYBGWYBGWYBGWYBGWYBGWYBGWYBGWYBGWYBGWYBGWYBGWYBGWYBGWYBGWYBGWYBGWYBGWYBGWYBGWYBGWYBGWYBGWYBGWYBGWYBGWYBGWYBGWYBGWYBGWYBGWYBGWYBGWYBGWYBGWYBGWYBGWYBGWYBGWYBGWYBGW']\n",
      "[['B', 'W', 'B', 'W', 'B', 'W', 'B', 'W', 'B', 'W', 'B', 'W', 'B', 'W', 'B', 'W', 'B', 'W', 'B', 'W', 'B', 'W', 'B', 'W', 'B', 'W', 'B', 'W', 'B', 'W', 'B', 'W', 'B', 'W', 'B', 'W', 'B', 'W', 'B', 'W', 'B', 'W', 'B', 'W', 'B', 'W', 'B', 'W', 'B', 'W', 'B', 'W', 'B', 'W', 'B', 'W', 'B', 'W', 'B', 'W', 'B', 'W', 'B', 'W'], ['W', 'B', 'W', 'B', 'W', 'B', 'W', 'B', 'W', 'B', 'W', 'B', 'W', 'B', 'W', 'B', 'W', 'B', 'W', 'B', 'W', 'B', 'W', 'B', 'W', 'B', 'W', 'B', 'W', 'B', 'W', 'B', 'W', 'B', 'W', 'B', 'W', 'B', 'W', 'B', 'W', 'B', 'W', 'B', 'W', 'B', 'W', 'B', 'W', 'B', 'W', 'B', 'W', 'B', 'W', 'B', 'W', 'B', 'W', 'B', 'W', 'B', 'W', 'B'], ['B', 'W', 'B', 'W', 'B', 'W', 'B', 'W', 'B', 'W', 'B', 'W', 'B', 'W', 'B', 'W', 'B', 'W', 'B', 'W', 'B', 'W', 'B', 'W', 'B', 'W', 'B', 'W', 'B', 'W', 'B', 'W', 'B', 'W', 'B', 'W', 'B', 'W', 'B', 'W', 'B', 'W', 'B', 'W', 'B', 'W', 'B', 'W', 'B', 'W', 'B', 'W', 'B', 'W', 'B', 'W', 'B', 'W', 'B', 'W', 'B', 'W', 'B', 'G'], ['G', 'B', 'W', 'B', 'G', 'B', 'W', 'B', 'G', 'B', 'W', 'B', 'G', 'B', 'W', 'B', 'G', 'B', 'W', 'B', 'G', 'B', 'W', 'B', 'G', 'B', 'W', 'B', 'G', 'B', 'W', 'B', 'G', 'B', 'W', 'B', 'G', 'B', 'W', 'B', 'G', 'B', 'W', 'B', 'G', 'B', 'W', 'B', 'G', 'B', 'W', 'B', 'G', 'B', 'W', 'B', 'G', 'B', 'W', 'B', 'G', 'B', 'W', 'B'], ['B', 'W', 'B', 'G', 'B', 'W', 'B', 'G', 'B', 'W', 'B', 'G', 'B', 'W', 'B', 'G', 'B', 'W', 'B', 'G', 'B', 'W', 'B', 'G', 'B', 'W', 'B', 'G', 'B', 'W', 'B', 'G', 'B', 'W', 'B', 'G', 'B', 'W', 'B', 'G', 'B', 'W', 'B', 'G', 'B', 'W', 'B', 'G', 'B', 'W', 'B', 'G', 'B', 'W', 'B', 'G', 'B', 'W', 'B', 'G', 'B', 'W', 'B', 'G'], ['G', 'B', 'W', 'B', 'G', 'B', 'W', 'B', 'G', 'B', 'W', 'B', 'G', 'B', 'W', 'B', 'G', 'B', 'W', 'B', 'G', 'B', 'W', 'B', 'G', 'B', 'W', 'B', 'G', 'B', 'W', 'B', 'G', 'B', 'W', 'B', 'G', 'B', 'W', 'B', 'G', 'B', 'W', 'B', 'G', 'B', 'W', 'B', 'G', 'B', 'W', 'B', 'G', 'B', 'W', 'B', 'G', 'B', 'W', 'B', 'G', 'B', 'W', 'B'], ['B', 'W', 'B', 'G', 'B', 'W', 'B', 'G', 'B', 'W', 'B', 'G', 'B', 'W', 'B', 'G', 'B', 'W', 'B', 'G', 'B', 'W', 'B', 'G', 'B', 'W', 'B', 'G', 'B', 'W', 'B', 'G', 'B', 'W', 'B', 'G', 'B', 'W', 'B', 'G', 'B', 'W', 'B', 'G', 'B', 'W', 'B', 'G', 'B', 'W', 'B', 'G', 'B', 'W', 'B', 'G', 'B', 'W', 'B', 'G', 'B', 'W', 'B', 'G'], ['G', 'B', 'W', 'B', 'G', 'B', 'W', 'B', 'G', 'B', 'W', 'B', 'G', 'B', 'W', 'B', 'G', 'B', 'W', 'B', 'G', 'B', 'W', 'B', 'G', 'B', 'W', 'B', 'G', 'B', 'W', 'B', 'G', 'B', 'W', 'B', 'G', 'B', 'W', 'B', 'G', 'B', 'W', 'B', 'G', 'B', 'W', 'B', 'G', 'B', 'W', 'B', 'G', 'B', 'W', 'B', 'G', 'B', 'W', 'B', 'G', 'B', 'W', 'B'], ['B', 'W', 'B', 'G', 'B', 'W', 'B', 'G', 'B', 'W', 'B', 'G', 'B', 'W', 'B', 'G', 'B', 'W', 'B', 'G', 'B', 'W', 'B', 'G', 'B', 'W', 'B', 'G', 'B', 'W', 'B', 'G', 'B', 'W', 'B', 'G', 'B', 'W', 'B', 'G', 'B', 'W', 'B', 'G', 'B', 'W', 'B', 'G', 'B', 'W', 'B', 'G', 'B', 'W', 'B', 'G', 'B', 'W', 'B', 'G', 'B', 'W', 'B', 'G'], ['G', 'B', 'W', 'B', 'G', 'B', 'W', 'B', 'G', 'B', 'W', 'B', 'G', 'B', 'W', 'B', 'G', 'B', 'W', 'B', 'G', 'B', 'W', 'B', 'G', 'B', 'W', 'B', 'G', 'B', 'W', 'B', 'G', 'B', 'W', 'B', 'G', 'B', 'W', 'B', 'G', 'B', 'W', 'B', 'G', 'B', 'W', 'B', 'G', 'B', 'W', 'B', 'G', 'B', 'W', 'B', 'G', 'B', 'W', 'B', 'G', 'B', 'W', 'B'], ['B', 'W', 'B', 'G', 'B', 'W', 'B', 'G', 'B', 'W', 'B', 'G', 'B', 'W', 'B', 'G', 'B', 'W', 'B', 'G', 'B', 'W', 'B', 'G', 'B', 'W', 'B', 'G', 'B', 'W', 'B', 'G', 'B', 'W', 'B', 'G', 'B', 'W', 'B', 'G', 'B', 'W', 'B', 'G', 'B', 'W', 'B', 'G', 'B', 'W', 'B', 'G', 'B', 'W', 'B', 'G', 'B', 'W', 'B', 'G', 'B', 'W', 'B', 'G'], ['G', 'B', 'W', 'B', 'G', 'B', 'W', 'B', 'G', 'B', 'W', 'B', 'G', 'B', 'W', 'B', 'G', 'B', 'W', 'B', 'G', 'B', 'W', 'B', 'G', 'B', 'W', 'B', 'G', 'B', 'W', 'B', 'G', 'B', 'W', 'B', 'G', 'B', 'W', 'B', 'G', 'B', 'W', 'B', 'G', 'B', 'W', 'B', 'G', 'B', 'W', 'B', 'G', 'B', 'W', 'B', 'G', 'B', 'W', 'B', 'G', 'B', 'W', 'B'], ['B', 'W', 'B', 'G', 'B', 'W', 'B', 'G', 'B', 'W', 'B', 'G', 'B', 'W', 'B', 'G', 'B', 'W', 'B', 'G', 'B', 'W', 'B', 'G', 'B', 'W', 'B', 'G', 'B', 'W', 'B', 'G', 'B', 'W', 'B', 'G', 'B', 'W', 'B', 'G', 'B', 'W', 'B', 'G', 'B', 'W', 'B', 'G', 'B', 'W', 'B', 'G', 'B', 'W', 'B', 'G', 'B', 'W', 'B', 'G', 'B', 'W', 'B', 'G'], ['G', 'B', 'W', 'B', 'G', 'B', 'W', 'B', 'G', 'B', 'W', 'B', 'G', 'B', 'W', 'B', 'G', 'B', 'W', 'B', 'G', 'B', 'W', 'B', 'G', 'B', 'W', 'B', 'G', 'B', 'W', 'B', 'G', 'B', 'W', 'B', 'G', 'B', 'W', 'B', 'G', 'B', 'W', 'B', 'G', 'B', 'W', 'B', 'G', 'B', 'W', 'B', 'G', 'B', 'W', 'B', 'G', 'B', 'W', 'B', 'G', 'B', 'W', 'B'], ['B', 'W', 'B', 'G', 'B', 'W', 'B', 'G', 'B', 'W', 'B', 'G', 'B', 'W', 'B', 'G', 'B', 'W', 'B', 'G', 'B', 'W', 'B', 'G', 'B', 'W', 'B', 'G', 'B', 'W', 'B', 'G', 'B', 'W', 'B', 'G', 'B', 'W', 'B', 'G', 'B', 'W', 'B', 'G', 'B', 'W', 'B', 'G', 'B', 'W', 'B', 'G', 'B', 'W', 'B', 'G', 'B', 'W', 'B', 'G', 'B', 'W', 'B', 'G'], ['G', 'B', 'W', 'B', 'G', 'B', 'W', 'B', 'G', 'B', 'W', 'B', 'G', 'B', 'W', 'B', 'G', 'B', 'W', 'B', 'G', 'B', 'W', 'B', 'G', 'B', 'W', 'B', 'G', 'B', 'W', 'B', 'G', 'B', 'W', 'B', 'G', 'B', 'W', 'B', 'G', 'B', 'W', 'B', 'G', 'B', 'W', 'B', 'G', 'B', 'W', 'B', 'G', 'B', 'W', 'B', 'G', 'B', 'W', 'B', 'G', 'B', 'W', 'B'], ['B', 'W', 'B', 'G', 'B', 'W', 'B', 'G', 'B', 'W', 'B', 'G', 'B', 'W', 'B', 'G', 'B', 'W', 'B', 'G', 'B', 'W', 'B', 'G', 'B', 'W', 'B', 'G', 'B', 'W', 'B', 'G', 'B', 'W', 'B', 'G', 'B', 'W', 'B', 'G', 'B', 'W', 'B', 'G', 'B', 'W', 'B', 'G', 'B', 'W', 'B', 'G', 'B', 'W', 'B', 'G', 'B', 'W', 'B', 'G', 'B', 'W', 'B', 'G'], ['G', 'B', 'W', 'B', 'G', 'B', 'W', 'B', 'G', 'B', 'W', 'B', 'G', 'B', 'W', 'B', 'G', 'B', 'W', 'B', 'G', 'B', 'W', 'B', 'G', 'B', 'W', 'B', 'G', 'B', 'W', 'B', 'G', 'B', 'W', 'B', 'G', 'B', 'W', 'B', 'G', 'B', 'W', 'B', 'G', 'B', 'W', 'B', 'G', 'B', 'W', 'B', 'G', 'B', 'W', 'B', 'G', 'B', 'W', 'B', 'G', 'B', 'W', 'B'], ['B', 'W', 'B', 'G', 'B', 'W', 'B', 'G', 'B', 'W', 'B', 'G', 'B', 'W', 'B', 'G', 'B', 'W', 'B', 'G', 'B', 'W', 'B', 'G', 'B', 'W', 'B', 'G', 'B', 'W', 'B', 'G', 'B', 'W', 'B', 'G', 'B', 'W', 'B', 'G', 'B', 'W', 'B', 'G', 'B', 'W', 'B', 'G', 'B', 'W', 'B', 'G', 'B', 'W', 'B', 'G', 'B', 'W', 'B', 'G', 'B', 'W', 'B', 'G'], ['G', 'B', 'W', 'B', 'G', 'B', 'W', 'B', 'G', 'B', 'W', 'B', 'G', 'B', 'W', 'B', 'G', 'B', 'W', 'B', 'G', 'B', 'W', 'B', 'G', 'B', 'W', 'B', 'G', 'B', 'W', 'B', 'G', 'B', 'W', 'B', 'G', 'B', 'W', 'B', 'G', 'B', 'W', 'B', 'G', 'B', 'W', 'B', 'G', 'B', 'W', 'B', 'G', 'B', 'W', 'B', 'G', 'B', 'W', 'B', 'G', 'B', 'W', 'B'], ['B', 'W', 'B', 'G', 'B', 'W', 'B', 'G', 'B', 'W', 'B', 'G', 'B', 'W', 'B', 'G', 'B', 'W', 'B', 'G', 'B', 'W', 'B', 'G', 'B', 'W', 'B', 'G', 'B', 'W', 'B', 'G', 'B', 'W', 'B', 'G', 'B', 'W', 'B', 'G', 'B', 'W', 'B', 'G', 'B', 'W', 'B', 'G', 'B', 'W', 'B', 'G', 'B', 'W', 'B', 'G', 'B', 'W', 'B', 'G', 'B', 'W', 'B', 'G'], ['G', 'B', 'W', 'B', 'G', 'B', 'W', 'B', 'G', 'B', 'W', 'B', 'G', 'B', 'W', 'B', 'G', 'B', 'W', 'B', 'G', 'B', 'W', 'B', 'G', 'B', 'W', 'B', 'G', 'B', 'W', 'B', 'G', 'B', 'W', 'B', 'G', 'B', 'W', 'B', 'G', 'B', 'W', 'B', 'G', 'B', 'W', 'B', 'G', 'B', 'W', 'B', 'G', 'B', 'W', 'B', 'G', 'B', 'W', 'B', 'G', 'B', 'W', 'B'], ['B', 'W', 'B', 'G', 'B', 'W', 'B', 'G', 'B', 'W', 'B', 'G', 'B', 'W', 'B', 'G', 'B', 'W', 'B', 'G', 'B', 'W', 'B', 'G', 'B', 'W', 'B', 'G', 'B', 'W', 'B', 'G', 'B', 'W', 'B', 'G', 'B', 'W', 'B', 'G', 'B', 'W', 'B', 'G', 'B', 'W', 'B', 'G', 'B', 'W', 'B', 'G', 'B', 'W', 'B', 'G', 'B', 'W', 'B', 'G', 'B', 'W', 'B', 'G'], ['G', 'B', 'W', 'B', 'G', 'B', 'W', 'B', 'G', 'B', 'W', 'B', 'G', 'B', 'W', 'B', 'G', 'B', 'W', 'B', 'G', 'B', 'W', 'B', 'G', 'B', 'W', 'B', 'G', 'B', 'W', 'B', 'G', 'B', 'W', 'B', 'G', 'B', 'W', 'B', 'G', 'B', 'W', 'B', 'G', 'B', 'W', 'B', 'G', 'B', 'W', 'B', 'G', 'B', 'W', 'B', 'G', 'B', 'W', 'B', 'G', 'B', 'W', 'B'], ['B', 'W', 'B', 'G', 'B', 'W', 'B', 'G', 'B', 'W', 'B', 'G', 'B', 'W', 'B', 'G', 'B', 'W', 'B', 'G', 'B', 'W', 'B', 'G', 'B', 'W', 'B', 'G', 'B', 'W', 'B', 'G', 'B', 'W', 'B', 'G', 'B', 'W', 'B', 'G', 'B', 'W', 'B', 'G', 'B', 'W', 'B', 'G', 'B', 'W', 'B', 'G', 'B', 'W', 'B', 'G', 'B', 'W', 'B', 'G', 'B', 'W', 'B', 'G'], ['G', 'B', 'W', 'B', 'G', 'B', 'W', 'B', 'G', 'B', 'W', 'B', 'G', 'B', 'W', 'B', 'G', 'B', 'W', 'B', 'G', 'B', 'W', 'B', 'G', 'B', 'W', 'B', 'G', 'B', 'W', 'B', 'G', 'B', 'W', 'B', 'G', 'B', 'W', 'B', 'G', 'B', 'W', 'B', 'G', 'B', 'W', 'B', 'G', 'B', 'W', 'B', 'G', 'B', 'W', 'B', 'G', 'B', 'W', 'B', 'G', 'B', 'W', 'B'], ['B', 'W', 'B', 'G', 'B', 'W', 'B', 'G', 'B', 'W', 'B', 'G', 'B', 'W', 'B', 'G', 'B', 'W', 'B', 'G', 'B', 'W', 'B', 'G', 'B', 'W', 'B', 'G', 'B', 'W', 'B', 'G', 'B', 'W', 'B', 'G', 'B', 'W', 'B', 'G', 'B', 'W', 'B', 'G', 'W', 'B', 'G', 'W', 'B', 'G', 'W', 'B', 'G', 'W', 'B', 'G', 'W', 'B', 'G', 'W', 'B', 'G', 'W', 'B'], ['G', 'B', 'W', 'G', 'B', 'W', 'G', 'B', 'W', 'G', 'B', 'W', 'G', 'B', 'W', 'G', 'B', 'W', 'G', 'B', 'W', 'G', 'B', 'W', 'G', 'B', 'W', 'G', 'B', 'W', 'G', 'B', 'W', 'G', 'B', 'W', 'G', 'B', 'W', 'G', 'B', 'W', 'G', 'B', 'W', 'G', 'B', 'W', 'G', 'B', 'W', 'G', 'B', 'W', 'G', 'B', 'W', 'G', 'B', 'W', 'G', 'B', 'W', 'G'], ['W', 'B', 'G', 'W', 'B', 'G', 'W', 'B', 'G', 'W', 'B', 'G', 'W', 'B', 'G', 'W', 'B', 'G', 'W', 'B', 'G', 'W', 'B', 'G', 'W', 'B', 'G', 'W', 'B', 'G', 'W', 'B', 'G', 'W', 'B', 'G', 'W', 'B', 'G', 'W', 'B', 'G', 'W', 'B', 'G', 'W', 'B', 'G', 'W', 'B', 'G', 'W', 'B', 'G', 'W', 'B', 'G', 'W', 'B', 'G', 'W', 'B', 'G', 'W'], ['B', 'W', 'G', 'B', 'W', 'G', 'B', 'W', 'G', 'B', 'W', 'G', 'B', 'W', 'G', 'B', 'W', 'G', 'B', 'W', 'G', 'B', 'W', 'G', 'B', 'W', 'G', 'B', 'W', 'G', 'B', 'W', 'G', 'B', 'W', 'G', 'B', 'W', 'G', 'B', 'W', 'G', 'B', 'W', 'G', 'B', 'W', 'G', 'B', 'W', 'G', 'B', 'W', 'G', 'B', 'W', 'G', 'B', 'W', 'G', 'B', 'W', 'G', 'B'], ['G', 'W', 'B', 'G', 'W', 'B', 'G', 'W', 'B', 'G', 'W', 'B', 'G', 'W', 'B', 'G', 'W', 'B', 'G', 'W', 'B', 'G', 'W', 'B', 'G', 'W', 'B', 'G', 'W', 'B', 'G', 'W', 'B', 'G', 'W', 'B', 'G', 'W', 'B', 'G', 'W', 'B', 'G', 'W', 'B', 'G', 'W', 'B', 'G', 'W', 'B', 'G', 'W', 'B', 'G', 'W', 'B', 'G', 'W', 'B', 'G', 'W', 'B', 'G'], ['W', 'G', 'B', 'W', 'G', 'B', 'W', 'G', 'B', 'W', 'G', 'B', 'W', 'G', 'B', 'W', 'G', 'B', 'W', 'G', 'B', 'W', 'G', 'B', 'W', 'G', 'B', 'W', 'G', 'B', 'W', 'G', 'B', 'W', 'G', 'B', 'W', 'G', 'B', 'W', 'G', 'B', 'W', 'G', 'B', 'W', 'G', 'B', 'W', 'G', 'B', 'W', 'G', 'B', 'W', 'G', 'B', 'W', 'G', 'B', 'W', 'G', 'B', 'W'], ['B', 'G', 'W', 'B', 'G', 'W', 'B', 'G', 'W', 'B', 'G', 'W', 'B', 'G', 'W', 'B', 'G', 'W', 'B', 'G', 'W', 'B', 'G', 'W', 'B', 'G', 'W', 'B', 'G', 'W', 'B', 'G', 'W', 'B', 'G', 'W', 'B', 'G', 'W', 'B', 'G', 'W', 'B', 'G', 'W', 'B', 'G', 'W', 'B', 'G', 'W', 'B', 'G', 'W', 'B', 'G', 'W', 'B', 'G', 'W', 'B', 'G', 'W', 'B'], ['Y', 'R', 'W', 'G', 'B', 'Y', 'R', 'W', 'G', 'B', 'Y', 'R', 'W', 'G', 'B', 'Y', 'R', 'W', 'G', 'B', 'Y', 'R', 'W', 'G', 'B', 'Y', 'R', 'W', 'G', 'B', 'Y', 'R', 'W', 'G', 'B', 'Y', 'R', 'W', 'G', 'B', 'Y', 'R', 'W', 'G', 'B', 'Y', 'R', 'W', 'G', 'B', 'W', 'G', 'B', 'W', 'G', 'B', 'W', 'G', 'B', 'W', 'G', 'B', 'W', 'G'], ['B', 'G', 'W', 'R', 'Y', 'B', 'G', 'W', 'R', 'Y', 'B', 'G', 'W', 'R', 'Y', 'B', 'G', 'W', 'R', 'Y', 'B', 'G', 'W', 'R', 'Y', 'B', 'G', 'W', 'R', 'Y', 'B', 'G', 'W', 'R', 'Y', 'B', 'G', 'W', 'R', 'Y', 'B', 'G', 'W', 'R', 'Y', 'B', 'G', 'W', 'R', 'Y', 'B', 'G', 'W', 'R', 'Y', 'B', 'G', 'W', 'R', 'Y', 'B', 'G', 'W', 'R'], ['W', 'G', 'B', 'Y', 'R', 'W', 'G', 'B', 'Y', 'R', 'W', 'G', 'B', 'Y', 'R', 'W', 'G', 'B', 'Y', 'R', 'W', 'G', 'B', 'Y', 'R', 'W', 'G', 'B', 'Y', 'R', 'W', 'G', 'B', 'Y', 'R', 'W', 'G', 'B', 'Y', 'R', 'W', 'G', 'B', 'Y', 'R', 'W', 'G', 'B', 'Y', 'R', 'W', 'G', 'B', 'Y', 'R', 'W', 'G', 'B', 'Y', 'R', 'W', 'G', 'B', 'Y'], ['R', 'Y', 'B', 'G', 'W', 'R', 'Y', 'B', 'G', 'W', 'R', 'Y', 'B', 'G', 'W', 'R', 'Y', 'B', 'G', 'W', 'R', 'Y', 'B', 'G', 'W', 'R', 'Y', 'B', 'G', 'W', 'R', 'Y', 'B', 'G', 'W', 'R', 'Y', 'B', 'G', 'W', 'R', 'Y', 'B', 'G', 'W', 'R', 'Y', 'B', 'G', 'W', 'R', 'Y', 'B', 'G', 'W', 'R', 'Y', 'B', 'G', 'W', 'R', 'Y', 'B', 'G'], ['B', 'Y', 'R', 'W', 'G', 'B', 'Y', 'R', 'W', 'G', 'B', 'Y', 'R', 'W', 'G', 'B', 'Y', 'R', 'W', 'G', 'B', 'Y', 'R', 'W', 'G', 'B', 'Y', 'R', 'W', 'G', 'B', 'Y', 'R', 'W', 'G', 'B', 'Y', 'R', 'W', 'G', 'B', 'Y', 'R', 'W', 'G', 'B', 'Y', 'R', 'W', 'G', 'B', 'Y', 'R', 'W', 'G', 'B', 'Y', 'R', 'W', 'G', 'B', 'Y', 'R', 'W'], ['G', 'W', 'R', 'Y', 'B', 'G', 'W', 'R', 'Y', 'B', 'G', 'W', 'R', 'Y', 'B', 'G', 'W', 'R', 'Y', 'B', 'G', 'W', 'R', 'Y', 'B', 'G', 'W', 'R', 'Y', 'B', 'G', 'W', 'R', 'Y', 'B', 'G', 'W', 'R', 'Y', 'B', 'G', 'W', 'R', 'Y', 'B', 'G', 'W', 'R', 'Y', 'B', 'G', 'W', 'R', 'Y', 'B', 'G', 'W', 'R', 'Y', 'B', 'G', 'W', 'R', 'Y'], ['R', 'W', 'G', 'B', 'Y', 'R', 'W', 'G', 'B', 'Y', 'R', 'W', 'G', 'B', 'Y', 'R', 'W', 'G', 'B', 'Y', 'R', 'W', 'G', 'B', 'Y', 'R', 'W', 'G', 'B', 'Y', 'R', 'W', 'G', 'B', 'Y', 'R', 'W', 'G', 'B', 'Y', 'R', 'W', 'G', 'B', 'Y', 'R', 'W', 'G', 'B', 'Y', 'R', 'W', 'G', 'B', 'Y', 'R', 'W', 'G', 'B', 'Y', 'R', 'W', 'G', 'B'], ['Y', 'B', 'G', 'W', 'R', 'Y', 'B', 'G', 'W', 'R', 'Y', 'B', 'G', 'W', 'R', 'Y', 'B', 'G', 'W', 'R', 'Y', 'B', 'G', 'W', 'R', 'Y', 'B', 'G', 'W', 'R', 'Y', 'B', 'G', 'W', 'R', 'Y', 'B', 'G', 'W', 'R', 'Y', 'B', 'G', 'W', 'R', 'Y', 'B', 'G', 'W', 'R', 'Y', 'B', 'G', 'W', 'R', 'Y', 'B', 'G', 'W', 'R', 'Y', 'B', 'G', 'W'], ['G', 'B', 'Y', 'R', 'W', 'G', 'B', 'Y', 'R', 'W', 'G', 'B', 'Y', 'R', 'W', 'G', 'B', 'Y', 'R', 'W', 'G', 'B', 'Y', 'R', 'W', 'G', 'B', 'Y', 'R', 'W', 'G', 'B', 'Y', 'R', 'W', 'G', 'B', 'Y', 'R', 'W', 'G', 'B', 'Y', 'R', 'W', 'G', 'B', 'Y', 'R', 'W', 'G', 'B', 'Y', 'R', 'W', 'G', 'B', 'Y', 'R', 'W', 'G', 'B', 'Y', 'R'], ['W', 'R', 'Y', 'B', 'G', 'W', 'R', 'Y', 'B', 'G', 'W', 'R', 'Y', 'B', 'G', 'W', 'R', 'Y', 'B', 'G', 'W', 'R', 'Y', 'B', 'G', 'W', 'R', 'Y', 'B', 'G', 'W', 'R', 'Y', 'B', 'G', 'W', 'R', 'Y', 'B', 'G', 'W', 'R', 'Y', 'B', 'G', 'W', 'R', 'Y', 'B', 'G', 'W', 'R', 'Y', 'B', 'G', 'W', 'R', 'Y', 'B', 'G', 'W', 'R', 'Y', 'B'], ['Y', 'R', 'W', 'G', 'B', 'Y', 'R', 'W', 'G', 'B', 'Y', 'R', 'W', 'G', 'B', 'Y', 'R', 'W', 'G', 'B', 'Y', 'R', 'W', 'G', 'B', 'Y', 'R', 'W', 'G', 'B', 'Y', 'R', 'W', 'G', 'B', 'Y', 'R', 'W', 'G', 'B', 'Y', 'R', 'W', 'G', 'B', 'Y', 'R', 'W', 'G', 'B', 'Y', 'R', 'W', 'G', 'B', 'Y', 'R', 'W', 'G', 'B', 'Y', 'R', 'W', 'G'], ['B', 'G', 'W', 'R', 'Y', 'B', 'G', 'W', 'Y', 'B', 'G', 'W', 'Y', 'B', 'G', 'W', 'Y', 'B', 'G', 'W', 'Y', 'B', 'G', 'W', 'Y', 'B', 'G', 'W', 'Y', 'B', 'G', 'W', 'Y', 'B', 'G', 'W', 'Y', 'B', 'G', 'W', 'Y', 'B', 'G', 'W', 'Y', 'B', 'G', 'W', 'Y', 'B', 'G', 'W', 'Y', 'B', 'G', 'W', 'Y', 'B', 'G', 'W', 'Y', 'B', 'G', 'W'], ['W', 'G', 'B', 'Y', 'W', 'G', 'B', 'Y', 'W', 'G', 'B', 'Y', 'W', 'G', 'B', 'Y', 'W', 'G', 'B', 'Y', 'W', 'G', 'B', 'Y', 'W', 'G', 'B', 'Y', 'W', 'G', 'B', 'Y', 'W', 'G', 'B', 'Y', 'W', 'G', 'B', 'Y', 'W', 'G', 'B', 'Y', 'W', 'G', 'B', 'Y', 'W', 'G', 'B', 'Y', 'W', 'G', 'B', 'Y', 'W', 'G', 'B', 'Y', 'W', 'G', 'B', 'Y'], ['Y', 'B', 'G', 'W', 'Y', 'B', 'G', 'W', 'Y', 'B', 'G', 'W', 'Y', 'B', 'G', 'W', 'Y', 'B', 'G', 'W', 'Y', 'B', 'G', 'W', 'Y', 'B', 'G', 'W', 'Y', 'B', 'G', 'W', 'Y', 'B', 'G', 'W', 'Y', 'B', 'G', 'W', 'Y', 'B', 'G', 'W', 'Y', 'B', 'G', 'W', 'Y', 'B', 'G', 'W', 'Y', 'B', 'G', 'W', 'Y', 'B', 'G', 'W', 'Y', 'B', 'G', 'W'], ['W', 'G', 'B', 'Y', 'W', 'G', 'B', 'Y', 'W', 'G', 'B', 'Y', 'W', 'G', 'B', 'Y', 'W', 'G', 'B', 'Y', 'W', 'G', 'B', 'Y', 'W', 'G', 'B', 'Y', 'W', 'G', 'B', 'Y', 'W', 'G', 'B', 'Y', 'W', 'G', 'B', 'Y', 'W', 'G', 'B', 'Y', 'W', 'G', 'B', 'Y', 'W', 'G', 'B', 'Y', 'W', 'G', 'B', 'Y', 'W', 'G', 'B', 'Y', 'W', 'G', 'B', 'Y'], ['Y', 'B', 'G', 'W', 'Y', 'B', 'G', 'W', 'Y', 'B', 'G', 'W', 'Y', 'B', 'G', 'W', 'Y', 'B', 'G', 'W', 'Y', 'B', 'G', 'W', 'Y', 'B', 'G', 'W', 'Y', 'B', 'G', 'W', 'Y', 'B', 'G', 'W', 'Y', 'B', 'G', 'W', 'Y', 'B', 'G', 'W', 'Y', 'B', 'G', 'W', 'Y', 'B', 'G', 'W', 'Y', 'B', 'G', 'W', 'Y', 'B', 'G', 'W', 'Y', 'B', 'G', 'W'], ['W', 'G', 'B', 'Y', 'W', 'G', 'B', 'Y', 'W', 'G', 'B', 'Y', 'W', 'G', 'B', 'Y', 'W', 'G', 'B', 'Y', 'W', 'G', 'B', 'Y', 'W', 'G', 'B', 'Y', 'W', 'G', 'B', 'Y', 'W', 'G', 'B', 'Y', 'W', 'G', 'B', 'Y', 'W', 'G', 'B', 'Y', 'W', 'G', 'B', 'Y', 'W', 'G', 'B', 'Y', 'W', 'G', 'B', 'Y', 'W', 'G', 'B', 'Y', 'W', 'G', 'B', 'Y'], ['Y', 'B', 'G', 'W', 'Y', 'B', 'G', 'W', 'Y', 'B', 'G', 'W', 'Y', 'B', 'G', 'W', 'Y', 'B', 'G', 'W', 'Y', 'B', 'G', 'W', 'Y', 'B', 'G', 'W', 'Y', 'B', 'G', 'W', 'Y', 'B', 'G', 'W', 'Y', 'B', 'G', 'W', 'Y', 'B', 'G', 'W', 'Y', 'B', 'G', 'W', 'Y', 'B', 'G', 'W', 'Y', 'B', 'G', 'W', 'Y', 'B', 'G', 'W', 'Y', 'B', 'G', 'W'], ['W', 'G', 'B', 'Y', 'W', 'G', 'B', 'Y', 'W', 'G', 'B', 'Y', 'W', 'G', 'B', 'Y', 'W', 'G', 'B', 'Y', 'W', 'G', 'B', 'Y', 'W', 'G', 'B', 'Y', 'W', 'G', 'B', 'Y', 'W', 'G', 'B', 'Y', 'W', 'G', 'B', 'Y', 'W', 'G', 'B', 'Y', 'W', 'G', 'B', 'Y', 'W', 'G', 'B', 'Y', 'W', 'G', 'B', 'Y', 'W', 'G', 'B', 'Y', 'W', 'G', 'B', 'Y'], ['Y', 'B', 'G', 'W', 'Y', 'B', 'G', 'W', 'Y', 'B', 'G', 'W', 'Y', 'B', 'G', 'W', 'Y', 'B', 'G', 'W', 'Y', 'B', 'G', 'W', 'Y', 'B', 'G', 'W', 'Y', 'B', 'G', 'W', 'Y', 'B', 'G', 'W', 'Y', 'B', 'G', 'W', 'Y', 'B', 'G', 'W', 'Y', 'B', 'G', 'W', 'Y', 'B', 'G', 'W', 'Y', 'B', 'G', 'W', 'Y', 'B', 'G', 'W', 'Y', 'B', 'G', 'W'], ['W', 'G', 'B', 'Y', 'W', 'G', 'B', 'Y', 'W', 'G', 'B', 'Y', 'W', 'G', 'B', 'Y', 'W', 'G', 'B', 'Y', 'W', 'G', 'B', 'Y', 'W', 'G', 'B', 'Y', 'W', 'G', 'B', 'Y', 'W', 'G', 'B', 'Y', 'W', 'G', 'B', 'Y', 'W', 'G', 'B', 'Y', 'W', 'G', 'B', 'Y', 'W', 'G', 'B', 'Y', 'W', 'G', 'B', 'Y', 'W', 'G', 'B', 'Y', 'W', 'G', 'B', 'Y'], ['Y', 'B', 'G', 'W', 'Y', 'B', 'G', 'W', 'Y', 'B', 'G', 'W', 'Y', 'B', 'G', 'W', 'Y', 'B', 'G', 'W', 'Y', 'B', 'G', 'W', 'Y', 'B', 'G', 'W', 'Y', 'B', 'G', 'W', 'Y', 'B', 'G', 'W', 'Y', 'B', 'G', 'W', 'Y', 'B', 'G', 'W', 'Y', 'B', 'G', 'W', 'Y', 'B', 'G', 'W', 'Y', 'B', 'G', 'W', 'Y', 'B', 'G', 'W', 'Y', 'B', 'G', 'W'], ['W', 'G', 'B', 'Y', 'W', 'G', 'B', 'Y', 'W', 'G', 'B', 'Y', 'W', 'G', 'B', 'Y', 'W', 'G', 'B', 'Y', 'W', 'G', 'B', 'Y', 'W', 'G', 'B', 'Y', 'W', 'G', 'B', 'Y', 'W', 'G', 'B', 'Y', 'W', 'G', 'B', 'Y', 'W', 'G', 'B', 'Y', 'W', 'G', 'B', 'Y', 'W', 'G', 'B', 'Y', 'W', 'G', 'B', 'Y', 'W', 'G', 'B', 'Y', 'W', 'G', 'B', 'Y'], ['Y', 'B', 'G', 'W', 'Y', 'B', 'G', 'W', 'Y', 'B', 'G', 'W', 'Y', 'B', 'G', 'W', 'Y', 'B', 'G', 'W', 'Y', 'B', 'G', 'W', 'Y', 'B', 'G', 'W', 'Y', 'B', 'G', 'W', 'Y', 'B', 'G', 'W', 'Y', 'B', 'G', 'W', 'Y', 'B', 'G', 'W', 'Y', 'B', 'G', 'W', 'Y', 'B', 'G', 'W', 'Y', 'B', 'G', 'W', 'Y', 'B', 'G', 'W', 'Y', 'B', 'G', 'W'], ['W', 'G', 'B', 'Y', 'W', 'G', 'B', 'Y', 'W', 'G', 'B', 'Y', 'W', 'G', 'B', 'Y', 'W', 'G', 'B', 'Y', 'W', 'G', 'B', 'Y', 'W', 'G', 'B', 'Y', 'W', 'G', 'B', 'Y', 'W', 'G', 'B', 'Y', 'W', 'G', 'B', 'Y', 'W', 'G', 'B', 'Y', 'W', 'G', 'B', 'Y', 'W', 'G', 'B', 'Y', 'W', 'G', 'B', 'Y', 'W', 'G', 'B', 'Y', 'W', 'G', 'B', 'Y'], ['Y', 'B', 'G', 'W', 'Y', 'B', 'G', 'W', 'Y', 'B', 'G', 'W', 'Y', 'B', 'G', 'W', 'Y', 'B', 'G', 'W', 'Y', 'B', 'G', 'W', 'Y', 'B', 'G', 'W', 'Y', 'B', 'G', 'W', 'Y', 'B', 'G', 'W', 'Y', 'B', 'G', 'W', 'Y', 'B', 'G', 'W', 'Y', 'B', 'G', 'W', 'Y', 'B', 'G', 'W', 'Y', 'B', 'G', 'W', 'Y', 'B', 'G', 'W', 'Y', 'B', 'G', 'W'], ['W', 'G', 'B', 'Y', 'W', 'G', 'B', 'Y', 'W', 'G', 'B', 'Y', 'W', 'G', 'B', 'Y', 'W', 'G', 'B', 'Y', 'W', 'G', 'B', 'Y', 'W', 'G', 'B', 'Y', 'W', 'G', 'B', 'Y', 'W', 'G', 'B', 'Y', 'W', 'G', 'B', 'Y', 'W', 'G', 'B', 'Y', 'W', 'G', 'B', 'Y', 'W', 'G', 'B', 'Y', 'W', 'G', 'B', 'Y', 'W', 'G', 'B', 'Y', 'W', 'G', 'B', 'Y'], ['Y', 'B', 'G', 'W', 'Y', 'B', 'G', 'W', 'Y', 'B', 'G', 'W', 'Y', 'B', 'G', 'W', 'Y', 'B', 'G', 'W', 'Y', 'B', 'G', 'W', 'Y', 'B', 'G', 'W', 'Y', 'B', 'G', 'W', 'Y', 'B', 'G', 'W', 'Y', 'B', 'G', 'W', 'Y', 'B', 'G', 'W', 'Y', 'B', 'G', 'W', 'Y', 'B', 'G', 'W', 'Y', 'B', 'G', 'W', 'Y', 'B', 'G', 'W', 'Y', 'B', 'G', 'W'], ['W', 'G', 'B', 'Y', 'W', 'G', 'B', 'Y', 'W', 'G', 'B', 'Y', 'W', 'G', 'B', 'Y', 'W', 'G', 'B', 'Y', 'W', 'G', 'B', 'Y', 'W', 'G', 'B', 'Y', 'W', 'G', 'B', 'Y', 'W', 'G', 'B', 'Y', 'W', 'G', 'B', 'Y', 'W', 'G', 'B', 'Y', 'W', 'G', 'B', 'Y', 'W', 'G', 'B', 'Y', 'W', 'G', 'B', 'Y', 'W', 'G', 'B', 'Y', 'W', 'G', 'B', 'Y'], ['Y', 'B', 'G', 'W', 'Y', 'B', 'G', 'W', 'Y', 'B', 'G', 'W', 'Y', 'B', 'G', 'W', 'Y', 'B', 'G', 'W', 'Y', 'B', 'G', 'W', 'Y', 'B', 'G', 'W', 'Y', 'B', 'G', 'W', 'Y', 'B', 'G', 'W', 'Y', 'B', 'G', 'W', 'Y', 'B', 'G', 'W', 'Y', 'B', 'G', 'W', 'Y', 'B', 'G', 'W', 'Y', 'B', 'G', 'W', 'Y', 'B', 'G', 'W', 'Y', 'B', 'G', 'W'], ['W', 'G', 'B', 'Y', 'W', 'G', 'B', 'Y', 'W', 'G', 'B', 'Y', 'W', 'G', 'B', 'Y', 'W', 'G', 'B', 'Y', 'W', 'G', 'B', 'Y', 'W', 'G', 'B', 'Y', 'W', 'G', 'B', 'Y', 'W', 'G', 'B', 'Y', 'W', 'G', 'B', 'Y', 'W', 'G', 'B', 'Y', 'W', 'G', 'B', 'Y', 'W', 'G', 'B', 'Y', 'W', 'G', 'B', 'Y', 'W', 'G', 'B', 'Y', 'W', 'G', 'B', 'Y']]\n"
     ]
    }
   ],
   "source": [
    "#question5.2\n",
    "main(beads2,64)"
   ]
  },
  {
   "cell_type": "code",
   "execution_count": null,
   "metadata": {},
   "outputs": [],
   "source": []
  }
 ],
 "metadata": {
  "kernelspec": {
   "display_name": "Python 3",
   "language": "python",
   "name": "python3"
  },
  "language_info": {
   "codemirror_mode": {
    "name": "ipython",
    "version": 3
   },
   "file_extension": ".py",
   "mimetype": "text/x-python",
   "name": "python",
   "nbconvert_exporter": "python",
   "pygments_lexer": "ipython3",
   "version": "3.8.3"
  }
 },
 "nbformat": 4,
 "nbformat_minor": 2
}
